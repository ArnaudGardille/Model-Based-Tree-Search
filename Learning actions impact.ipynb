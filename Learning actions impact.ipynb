{
 "cells": [
  {
   "cell_type": "code",
   "execution_count": 1,
   "id": "d1e2d9fc",
   "metadata": {},
   "outputs": [],
   "source": [
    "%load_ext autoreload\n",
    "%autoreload 2\n",
    "\n",
    "from matplotlib import pyplot as plt\n",
    "import matplotlib.gridspec as gridspec\n",
    "import numpy as np\n",
    "import pandas as pd\n",
    "\n",
    "from scipy import integrate\n",
    "from scipy.interpolate import interpn,interp1d,RegularGridInterpolator, Akima1DInterpolator\n",
    "from scipy.optimize import minimize\n",
    "import scipy.signal as sig\n",
    "from scipy.optimize import least_squares, minimize\n",
    "\n",
    "import time\n",
    "from tqdm.notebook import trange\n",
    "import importlib\n",
    "\n",
    "#from sklearn.metrics import mean_absolute_error\n",
    "\n",
    "from numpy import linalg as la\n",
    "\n",
    "import copy\n",
    "\n",
    "import sys\n",
    "from importlib import reload,import_module\n",
    "import os\n",
    "\n",
    "#import sagemaker\n",
    "#import boto3\n",
    "\n",
    "%matplotlib inline\n",
    "\n",
    "import copy\n",
    "import random\n",
    "import gym\n",
    "\n",
    "import torch\n",
    "import torch.nn as nn\n",
    "from torch.autograd import Variable\n",
    "#from sources.utilities.model_LTI_v2 import *\n",
    "#from sources.utilities.utility_functions import *"
   ]
  },
  {
   "cell_type": "code",
   "execution_count": 2,
   "id": "8d74ae38",
   "metadata": {},
   "outputs": [],
   "source": [
    "env = gym.make(\"MountainCarContinuous-v0\")"
   ]
  },
  {
   "cell_type": "markdown",
   "id": "17346f32",
   "metadata": {},
   "source": [
    "### Transition Dynamics\n",
    "Given an action, the mountain car follows the following transition dynamics:\n",
    "    \n",
    "    "
   ]
  },
  {
   "cell_type": "markdown",
   "id": "a5bcc1da",
   "metadata": {},
   "source": [
    "$$ velocity_{t+1} = velocity_t + (action - 1) * force - cos(3 * position_t) * gravity $$"
   ]
  },
  {
   "cell_type": "markdown",
   "id": "6c04cd95",
   "metadata": {},
   "source": [
    "$$ position_{t+1} = position_t + velocity_{t+1} \\\\\n",
    "= position_t + velocity_t + (action - 1) * force - cos(3 * position_t) * gravity\n",
    "$$"
   ]
  },
  {
   "cell_type": "raw",
   "id": "bf12bd5a",
   "metadata": {},
   "source": [
    "from gym import spaces\n",
    "class DumbEnv(gym.Env):\n",
    "    def __init__(self):\n",
    "        self.observation_space = spaces.Box(-1.0, 1.0, shape=(1,))\n",
    "        self.action_space = spaces.Discrete(3)\n",
    "        \n",
    "    def _get_obs(self):\n",
    "        return {\"agent\": self._agent_location, \"target\": self._target_location}\n",
    "        \n",
    "    def step(self, action):\n",
    "        self.x = np.clip(self.x + (action-1)/100.0, -1.0, 1.0)\n",
    "        return self.x, 0, 0, 0\n",
    "    \n",
    "    def reset(self, seed=None, return_info=False, options=None):\n",
    "        # We need the following line to seed self.np_random\n",
    "        self.x = np.array([0.0])\n",
    "        return self.x\n",
    "        \n",
    "env = DumbEnv()\n",
    "obs = env.reset()\n",
    "obs, _, _, _ = env.step(0)\n",
    "obs"
   ]
  },
  {
   "cell_type": "markdown",
   "id": "19b6e3b4",
   "metadata": {},
   "source": [
    "### learning the causal structure"
   ]
  },
  {
   "cell_type": "code",
   "execution_count": 3,
   "id": "5bac1f64",
   "metadata": {},
   "outputs": [],
   "source": [
    "class ModelNN(nn.Module):\n",
    "\n",
    "    def __init__(self, state_size, action_size, num_hidden_layers, size__hidden_layer = 200, bias=True):\n",
    "        super().__init__()\n",
    "        layer = []\n",
    "        input_size = state_size + action_size\n",
    "        for i in range(num_hidden_layers):\n",
    "            layer.append(nn.Linear(input_size, size__hidden_layer, bias=bias))\n",
    "            layer.append(nn.ReLU())\n",
    "            input_size = size__hidden_layer\n",
    "        layer.append(nn.Linear(size__hidden_layer, state_size, bias=bias))\n",
    "        self.net = nn.Sequential(*layer)\n",
    "\n",
    "    def forward(self, S, A):\n",
    "        \n",
    "        # Concatenate the input and output of each block on the channel\n",
    "        # dimension\n",
    "        X = torch.cat((S, A), dim=1)\n",
    "        #print(X)\n",
    "        \n",
    "        return self.net(X) #S + "
   ]
  },
  {
   "cell_type": "code",
   "execution_count": 4,
   "id": "d7463212",
   "metadata": {},
   "outputs": [],
   "source": [
    "class ModelCon(nn.Module):\n",
    "\n",
    "    def __init__(self, state_size, action_size):\n",
    "        super().__init__()\n",
    "        self.net = nn.Linear(state_size + action_size, state_size)\n",
    "\n",
    "    def forward(self, S, A):\n",
    "        \n",
    "        # Concatenate the input and output of each block on the channel\n",
    "        # dimension\n",
    "        X = torch.cat((S, A), dim=1)\n",
    "        \n",
    "        return self.net(X) #S + "
   ]
  },
  {
   "cell_type": "code",
   "execution_count": 5,
   "id": "8273f88a",
   "metadata": {},
   "outputs": [
    {
     "data": {
      "text/plain": [
       "tensor([[0.0009, 0.0013]], grad_fn=<AddmmBackward0>)"
      ]
     },
     "execution_count": 5,
     "metadata": {},
     "output_type": "execute_result"
    }
   ],
   "source": [
    "model = ModelNN(2, 1, 3, bias=True)\n",
    "#ModelCon(2, 1)\n",
    "model.forward(torch.tensor([[-0.4502,  0.0000]]), torch.tensor([[-1.5406]]))"
   ]
  },
  {
   "cell_type": "code",
   "execution_count": 6,
   "id": "3e21ac48",
   "metadata": {},
   "outputs": [
    {
     "data": {
      "text/plain": [
       "ModelNN(\n",
       "  (net): Sequential(\n",
       "    (0): Linear(in_features=3, out_features=200, bias=True)\n",
       "    (1): ReLU()\n",
       "    (2): Linear(in_features=200, out_features=200, bias=True)\n",
       "    (3): ReLU()\n",
       "    (4): Linear(in_features=200, out_features=200, bias=True)\n",
       "    (5): ReLU()\n",
       "    (6): Linear(in_features=200, out_features=2, bias=True)\n",
       "  )\n",
       ")"
      ]
     },
     "execution_count": 6,
     "metadata": {},
     "output_type": "execute_result"
    }
   ],
   "source": [
    "model"
   ]
  },
  {
   "cell_type": "code",
   "execution_count": 7,
   "id": "060c0b91",
   "metadata": {},
   "outputs": [
    {
     "name": "stdout",
     "output_type": "stream",
     "text": [
      "(tensor([[-0.5443,  0.0000]]), tensor([[0.3807]]), tensor([[0.7259, 0.7259]]))\n",
      "(tensor([[-0.5435,  0.0007]]), tensor([[-0.2692]]), tensor([[ 0.4716, -0.2543]]))\n"
     ]
    },
    {
     "name": "stderr",
     "output_type": "stream",
     "text": [
      "/home/agardille/.conda/envs/carla_env/lib/python3.7/site-packages/ipykernel_launcher.py:21: UserWarning: Creating a tensor from a list of numpy.ndarrays is extremely slow. Please consider converting the list to a single numpy.ndarray with numpy.array() before converting to a tensor. (Triggered internally at  /opt/conda/conda-bld/pytorch_1646755953518/work/torch/csrc/utils/tensor_new.cpp:210.)\n"
     ]
    }
   ],
   "source": [
    "class DynamicDataset(torch.utils.data.IterableDataset):\n",
    "    def __init__(self):\n",
    "        super(DynamicDataset).__init__()\n",
    "         \n",
    "    def __iter__(self):\n",
    "        env = gym.make(\"MountainCarContinuous-v0\")\n",
    "        #DumbEnv()\n",
    "        #gym.make('MountainCar-v0')\n",
    "        #action = env.action_space.sample()\n",
    "        #print(action)\n",
    "        done=True\n",
    "        while True:\n",
    "            if done:\n",
    "                observation = env.reset()\n",
    "            #env.render()\n",
    "            action = env.action_space.sample()\n",
    "            action = np.clip(action, -1.0, 1.0)\n",
    "            #print(observation)\n",
    "            next_observation, reward, done, info = env.step(action)\n",
    "            #print(torch.tensor([observation]).shape)\n",
    "            observation_tensor = torch.tensor([observation]).float()\n",
    "            action_tensor = torch.tensor([action]).float()\n",
    "            next_observation_tensor = torch.tensor([next_observation]).float()\n",
    "            \n",
    "            yield observation_tensor, action_tensor, 1000.0*(next_observation_tensor - observation_tensor)\n",
    "            observation = next_observation\n",
    "\n",
    "\n",
    "dataset = iter(DynamicDataset())\n",
    "#dataloader = torch.utils.data.DataLoader(dataset, num_workers=1, batch_size=2)\n",
    "print(next(dataset))\n",
    "print(next(dataset))"
   ]
  },
  {
   "cell_type": "code",
   "execution_count": 8,
   "id": "ba76bc15",
   "metadata": {},
   "outputs": [],
   "source": [
    "criterion = nn.MSELoss()\n",
    "\n",
    "# Observe that all parameters are being optimized\n",
    "optimizer = torch.optim.Adam(model.parameters(), 0.01)\n",
    "#optimizer_ft = torch.optim.Adam(car_detector.parameters())\n",
    "\n",
    "# Decay LR by a factor of 0.1 every 7 epochs\n",
    "scheduler = torch.optim.lr_scheduler.StepLR(optimizer, step_size=7, gamma=0.1)\n"
   ]
  },
  {
   "cell_type": "code",
   "execution_count": 9,
   "id": "29575817",
   "metadata": {},
   "outputs": [
    {
     "data": {
      "application/vnd.jupyter.widget-view+json": {
       "model_id": "0f2829b24116454e81fc793e553b19af",
       "version_major": 2,
       "version_minor": 0
      },
      "text/plain": [
       "  0%|          | 0/25 [00:00<?, ?it/s]"
      ]
     },
     "metadata": {},
     "output_type": "display_data"
    },
    {
     "name": "stdout",
     "output_type": "stream",
     "text": [
      "Loss: 27.5871\n",
      "\n",
      "\n",
      "Loss: 57.3134\n",
      "\n",
      "\n",
      "Loss: 136.5687\n",
      "\n",
      "\n",
      "Loss: 68.5666\n",
      "\n",
      "\n",
      "Loss: 11.9045\n",
      "\n",
      "\n",
      "Loss: 36.6773\n",
      "\n",
      "\n",
      "Loss: 56.2178\n",
      "\n",
      "\n",
      "Loss: 7.0319\n",
      "\n",
      "\n",
      "Loss: 2.8823\n",
      "\n",
      "\n",
      "Loss: 1.6342\n",
      "\n",
      "\n",
      "Loss: 1.1863\n",
      "\n",
      "\n",
      "Loss: 1.2194\n",
      "\n",
      "\n",
      "Loss: 1.1790\n",
      "\n",
      "\n",
      "Loss: 1.2529\n",
      "\n",
      "\n",
      "Loss: 1.8011\n",
      "\n",
      "\n",
      "Loss: 0.5717\n",
      "\n",
      "\n",
      "Loss: 0.6292\n",
      "\n",
      "\n",
      "Loss: 1.8327\n",
      "\n",
      "\n",
      "Loss: 0.4598\n",
      "\n",
      "\n",
      "Loss: 0.4968\n",
      "\n",
      "\n",
      "Loss: 0.5421\n",
      "\n",
      "\n",
      "Loss: 0.9559\n",
      "\n",
      "\n",
      "Loss: 1.0090\n",
      "\n",
      "\n",
      "Loss: 0.7136\n",
      "\n",
      "\n",
      "Loss: 0.9826\n",
      "\n",
      "\n",
      "Training complete in 0m 33s\n"
     ]
    },
    {
     "data": {
      "text/plain": [
       "ModelNN(\n",
       "  (net): Sequential(\n",
       "    (0): Linear(in_features=3, out_features=200, bias=True)\n",
       "    (1): ReLU()\n",
       "    (2): Linear(in_features=200, out_features=200, bias=True)\n",
       "    (3): ReLU()\n",
       "    (4): Linear(in_features=200, out_features=200, bias=True)\n",
       "    (5): ReLU()\n",
       "    (6): Linear(in_features=200, out_features=2, bias=True)\n",
       "  )\n",
       ")"
      ]
     },
     "execution_count": 9,
     "metadata": {},
     "output_type": "execute_result"
    }
   ],
   "source": [
    "dataset = iter(DynamicDataset())\n",
    "from torch.utils.tensorboard import SummaryWriter\n",
    "def train_model(model, dataset, criterion, optimizer, scheduler, num_epochs=25):\n",
    "    writer = SummaryWriter('tensorboard/model_learning')\n",
    "    since = time.time()\n",
    "\n",
    "    pbar = trange(num_epochs)\n",
    "    for epoch in pbar:\n",
    "        running_loss = 0.0\n",
    "        for _ in range(1000):\n",
    "            state, action, label = next(dataset)\n",
    "            #print(state, action, label)\n",
    "\n",
    "            # zero the parameter gradients\n",
    "            optimizer.zero_grad()\n",
    "\n",
    "            # forward\n",
    "            # track history if only in train\n",
    "            with torch.set_grad_enabled(True):\n",
    "                output = model(state, action)\n",
    "                #print(state, action, label, output)\n",
    "                loss = criterion(output, label)\n",
    "\n",
    "                #print('outputs: ', outputs)\n",
    "                #print('labels: ', labels)\n",
    "                #print('loss: ', loss)\n",
    "                #print()\n",
    "\n",
    "                loss.backward()\n",
    "                optimizer.step()\n",
    "\n",
    "                # statistics\n",
    "            running_loss += loss.item() \n",
    "            \n",
    "            #pbar.set_description(\"state: \" + str(state) + \" , action: \" + str(action) +\", label: \" + str(label))\n",
    "\n",
    "        scheduler.step()\n",
    "\n",
    "        epoch_loss = running_loss  / 1000\n",
    "\n",
    "        print(f'Loss: {epoch_loss:.4f}')\n",
    "        print()\n",
    "\n",
    "        # deep copy the model\n",
    "        if epoch_loss < best_loss:\n",
    "            best_loss = epoch_loss\n",
    "            best_model_wts = copy.deepcopy(model.state_dict())\n",
    "\n",
    "        writer.add_scalar(f' Loss', epoch_loss, epoch)\n",
    "        writer.flush()\n",
    "\n",
    "        print()\n",
    "\n",
    "    time_elapsed = time.time() - since\n",
    "    print(f'Training complete in {time_elapsed // 60:.0f}m {time_elapsed % 60:.0f}s')\n",
    "\n",
    "    return model\n",
    "    \n",
    "train_model(model, dataset, criterion, optimizer, scheduler, num_epochs=25)\n",
    "     "
   ]
  },
  {
   "cell_type": "code",
   "execution_count": 10,
   "id": "baf9bcf1",
   "metadata": {},
   "outputs": [
    {
     "data": {
      "application/vnd.jupyter.widget-view+json": {
       "model_id": "d76261985a0344f797bd345b70b9e2a7",
       "version_major": 2,
       "version_minor": 0
      },
      "text/plain": [
       "  0%|          | 0/1000 [00:00<?, ?it/s]"
      ]
     },
     "metadata": {},
     "output_type": "display_data"
    },
    {
     "data": {
      "image/png": "[encoded data removed]",
      "text/plain": [
       "<Figure size 864x864 with 1 Axes>"
      ]
     },
     "metadata": {
      "needs_background": "light"
     },
     "output_type": "display_data"
    }
   ],
   "source": [
    "dataset = iter(DynamicDataset())\n",
    "\n",
    "#columns = ['Position', 'Velocity', 'Angle','Angular Velocity']\n",
    "\n",
    "pbar = trange(1000)\n",
    "labels = []\n",
    "preds = []\n",
    "inputs = []\n",
    "done=True\n",
    "for _ in pbar:\n",
    "    state, action, label = next(dataset)\n",
    "    \n",
    "    #observation_tensor = torch.tensor(observation).float()\n",
    "    #action_tensor = torch.tensor([action]).float()[None,:]\n",
    "    #print(observation_tensor, action_tensor)\n",
    "    pred = model(state, action).detach() #.numpy()\n",
    "    #print(state, action, label, pred)\n",
    "    preds.append(pred[0].numpy())\n",
    "    labels.append(label[0].numpy())\n",
    "    inputs.append(action[0].numpy())\n",
    "    \n",
    "   \n",
    "inputs = np.array(inputs)\n",
    "labels = np.array(labels)\n",
    "\n",
    "preds = np.array(preds)\n",
    "\n",
    "for i, label in enumerate(['position']): #, 'velocity']):\n",
    "    plt.figure(figsize=(12, 12))\n",
    "    plt.plot(labels[:,i], label = 'label')\n",
    "    plt.plot(preds[:,i], label = 'prediction')\n",
    "    plt.legend()\n",
    "    \n",
    "    plt.show()\n",
    "\n",
    "env.close()"
   ]
  },
  {
   "cell_type": "code",
   "execution_count": null,
   "id": "02ff64ef",
   "metadata": {},
   "outputs": [],
   "source": []
  },
  {
   "cell_type": "markdown",
   "id": "d54b9e28",
   "metadata": {},
   "source": [
    "observation = env.reset()\n",
    "\n",
    "#columns = ['Position', 'Velocity', 'Angle','Angular Velocity']\n",
    "\n",
    "pbar = trange(100)\n",
    "labels = []\n",
    "preds = []\n",
    "inputs = []\n",
    "done=True\n",
    "for _ in pbar:\n",
    "    if done:\n",
    "        observation = env.reset()\n",
    "        action = env.action_space.sample()\n",
    "    #env.render()\n",
    "    \n",
    "    #print(action)\n",
    "\n",
    "    next_observation, reward, done, info = env.step(action)\n",
    "    pbar.set_description(str(observation))\n",
    "    #print(observation)\n",
    "    labels.append(next_observation)\n",
    "    inputs.append(observation)\n",
    "    \n",
    "    observation_tensor = torch.tensor([observation]).float()\n",
    "    action_tensor = torch.tensor([action]).float() #[None,:]\n",
    "    print(observation_tensor, action_tensor)\n",
    "    pred = model(observation_tensor, action_tensor)[0].detach().numpy()\n",
    "    preds.append(pred)\n",
    "    \n",
    "    observation = next_observation\n",
    "   \n",
    "inputs = np.array(inputs)\n",
    "labels = np.array(labels)\n",
    "\n",
    "preds = np.array(preds)\n",
    "\n",
    "for i, label in enumerate(['position']): #, 'velocity']):\n",
    "    plt.plot(labels[:,i], label = 'label')\n",
    "    plt.plot(preds[:,i], label = 'prediction')\n",
    "    plt.legend()\n",
    "    plt.show()\n",
    "\n",
    "env.close()"
   ]
  },
  {
   "cell_type": "code",
   "execution_count": null,
   "id": "88e58c15",
   "metadata": {},
   "outputs": [],
   "source": []
  },
  {
   "cell_type": "code",
   "execution_count": null,
   "id": "d8ad994e",
   "metadata": {},
   "outputs": [],
   "source": []
  }
 ],
 "metadata": {
  "kernelspec": {
   "display_name": "Python 3 (ipykernel)",
   "language": "python",
   "name": "python3"
  },
  "language_info": {
   "codemirror_mode": {
    "name": "ipython",
    "version": 3
   },
   "file_extension": ".py",
   "mimetype": "text/x-python",
   "name": "python",
   "nbconvert_exporter": "python",
   "pygments_lexer": "ipython3",
   "version": "3.7.13"
  }
 },
 "nbformat": 4,
 "nbformat_minor": 5
}
